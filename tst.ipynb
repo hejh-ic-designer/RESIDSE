{
 "cells": [
  {
   "cell_type": "code",
   "execution_count": 2,
   "metadata": {},
   "outputs": [
    {
     "name": "stdout",
     "output_type": "stream",
     "text": [
      "Cumulative sum list: [1, 4, 4, 8]\n"
     ]
    }
   ],
   "source": [
    "import itertools\n",
    "\n",
    "def cumulative_sum(lst):\n",
    "    # 使用 itertools.accumulate 计算累积和\n",
    "    return list(itertools.accumulate(lst))\n",
    "\n",
    "# 示例列表\n",
    "input_list = [1, 3, 0, 4]\n",
    "\n",
    "# 生成逐项之和的列表\n",
    "cumulative_sum_list = cumulative_sum(input_list)\n",
    "print(f\"Cumulative sum list: {cumulative_sum_list}\")"
   ]
  },
  {
   "cell_type": "code",
   "execution_count": 5,
   "metadata": {},
   "outputs": [
    {
     "name": "stdout",
     "output_type": "stream",
     "text": [
      "There is no 1 in the list.\n"
     ]
    }
   ],
   "source": [
    "def find_first_one_index(lst):\n",
    "    # 使用 next 和生成器表达式找到第一个 1 的索引\n",
    "    try:\n",
    "        return next(i for i, value in enumerate(lst) if value == 1)\n",
    "    except StopIteration:\n",
    "        # 如果没有找到 1，返回 None 或 -1\n",
    "        return None  # 或者返回 -1\n",
    "\n",
    "# 示例列表\n",
    "example_list = [0, 0, 0, 0, 0, 0]\n",
    "\n",
    "# 找到第一个 1 的索引\n",
    "first_one_index = find_first_one_index(example_list)\n",
    "\n",
    "if first_one_index is not None:\n",
    "    print(f\"The index of the first 1 is: {first_one_index}\")\n",
    "else:\n",
    "    print(\"There is no 1 in the list.\")"
   ]
  },
  {
   "cell_type": "code",
   "execution_count": 8,
   "metadata": {},
   "outputs": [
    {
     "name": "stdout",
     "output_type": "stream",
     "text": [
      "[1, 2, 3, 999]\n",
      "[2, 3, 999]\n",
      "[1, 2, 3]\n"
     ]
    }
   ],
   "source": [
    "a = [1, 2, 3]\n",
    "b = [999]\n",
    "\n",
    "c = a + b\n",
    "print(c)\n",
    "print(c[1:])\n",
    "print(c[:-1])"
   ]
  },
  {
   "cell_type": "code",
   "execution_count": 9,
   "metadata": {},
   "outputs": [
    {
     "name": "stdout",
     "output_type": "stream",
     "text": [
      "[16.0, 8.0, 4.0, 2.0]\n"
     ]
    }
   ],
   "source": [
    "def generate_halves(number, n):\n",
    "    return [number / (2 ** i) for i in range(n)]\n",
    "\n",
    "a = 16\n",
    "n = 4\n",
    "print(generate_halves(a, n))"
   ]
  },
  {
   "cell_type": "code",
   "execution_count": 6,
   "metadata": {},
   "outputs": [
    {
     "name": "stdout",
     "output_type": "stream",
     "text": [
      "[8, 8, 4]\n"
     ]
    }
   ],
   "source": [
    "tile_h = 2\n",
    "stride_per_layer = [2, 2, 1]\n",
    "olp_length = [2, 2, 2]\n",
    "ich_per_layer = [1, 1, 1]\n",
    "\n",
    "x_olp_data_amount = [tile_h * stride * x_olp * ich for stride, x_olp, ich in zip(stride_per_layer, olp_length, ich_per_layer)]\n",
    "\n",
    "print(x_olp_data_amount)"
   ]
  }
 ],
 "metadata": {
  "kernelspec": {
   "display_name": "base",
   "language": "python",
   "name": "python3"
  },
  "language_info": {
   "codemirror_mode": {
    "name": "ipython",
    "version": 3
   },
   "file_extension": ".py",
   "mimetype": "text/x-python",
   "name": "python",
   "nbconvert_exporter": "python",
   "pygments_lexer": "ipython3",
   "version": "3.12.4"
  }
 },
 "nbformat": 4,
 "nbformat_minor": 2
}
